{
  "nbformat": 4,
  "nbformat_minor": 0,
  "metadata": {
    "colab": {
      "provenance": [],
      "collapsed_sections": [
        "XM91306CL5Ne",
        "QcHnOPUiT6Bw",
        "BGih8nflWfp-",
        "P1_GJuO-tpUG"
      ],
      "authorship_tag": "ABX9TyO0r8d/UNXYqnq6tn/+efDG",
      "include_colab_link": true
    },
    "kernelspec": {
      "name": "python3",
      "display_name": "Python 3"
    },
    "language_info": {
      "name": "python"
    }
  },
  "cells": [
    {
      "cell_type": "markdown",
      "metadata": {
        "id": "view-in-github",
        "colab_type": "text"
      },
      "source": [
        "<a href=\"https://colab.research.google.com/github/mwelland/ENGPYHS_3NM4/blob/main/Truncation_error.ipynb\" target=\"_parent\"><img src=\"https://colab.research.google.com/assets/colab-badge.svg\" alt=\"Open In Colab\"/></a>"
      ]
    },
    {
      "cell_type": "code",
      "source": [
        "from numpy import pi, e, sqrt, binary_repr\n",
        "import numpy as np"
      ],
      "metadata": {
        "id": "4w3NaHwTxpQy"
      },
      "execution_count": null,
      "outputs": []
    },
    {
      "cell_type": "markdown",
      "source": [
        "#Truncation error"
      ],
      "metadata": {
        "id": "wW4KU3zHwz10"
      }
    },
    {
      "cell_type": "markdown",
      "source": [
        "Truncation error occurs when we *approximate* a mathematical function.\n"
      ],
      "metadata": {
        "id": "MlhxbG0Hw4XC"
      }
    },
    {
      "cell_type": "markdown",
      "source": [
        "##Taylor series"
      ],
      "metadata": {
        "id": "XM91306CL5Ne"
      }
    },
    {
      "cell_type": "markdown",
      "source": [
        "Recall the *EVER SO USEFUL* Taylor series:\n",
        "\n",
        "$f(x+\\Delta x) = f(x) + f'(x) \\Delta x + f''(x) \\frac{\\Delta x ^2}{2} + f'''(x) \\frac{\\Delta x ^3}{6} + ...$\n",
        "\n",
        "$= \\sum_{n=0}^{\\infty} \\frac{f^{(n)}(x)}{n!} \\Delta x ^n$\n",
        "\n",
        "but this is not useful unless we have an infinite amount of time and resources."
      ],
      "metadata": {
        "id": "8zpo33tlL8U2"
      }
    },
    {
      "cell_type": "markdown",
      "source": [
        "If $\\Delta x$ is *small*, $\\Delta x ^2$ is smaller, and $\\Delta x ^3$ smaller still. In fact, as long as $f(x)$ is *well behaved* (loosely defined as continuous, smooth, differentiable, not infinite, etc) the derivatives don't explode exponentially and the rightmost terms get very small.\n",
        "\n",
        "So let's *truncate* the series and only keep the first $k$ terms:\n",
        "\n",
        "$f(x+\\Delta x) = f(x) + f'(x) \\Delta x + f''(x) \\frac{\\Delta x ^2}{2} + E_k $\n",
        "\n",
        "where\n",
        "\n",
        "$E_k = \\sum_{n=k}^{\\infty} \\frac{f^{(n)}(x)}{n!} \\Delta x ^n$\n",
        "\n",
        "is the **truncation error**."
      ],
      "metadata": {
        "id": "B123-THhPHbb"
      }
    },
    {
      "cell_type": "markdown",
      "source": [
        "This quantity is akin to a True Error in that if we knew what $E_k$ was exactly, we would have the true function $f$!\n",
        "\n",
        "It is more useful to define the *order* of the error. Noting that the leading term is $\\propto \\Delta x ^k$, we would say:\n",
        "\n",
        "$f(x_0+\\Delta x) \\approx f(x_0) + f'(x_0) \\Delta x + f''(x_0) \\frac{\\Delta x ^2}{2} + 𝒪(\\Delta x ^3)$\n",
        "\n",
        "or that this is a *third* order approximation.\n",
        "\n",
        "This is a useful statement, since it indicates the payoff for tuning the numerical parameters. In this case, halving the step size halves the error.  "
      ],
      "metadata": {
        "id": "f0bRhvoVRL5R"
      }
    },
    {
      "cell_type": "markdown",
      "source": [
        "###Example: Find the order of approximate derivative we calculated previously (known as the *forward* difference)."
      ],
      "metadata": {
        "id": "QcHnOPUiT6Bw"
      }
    },
    {
      "cell_type": "markdown",
      "source": [
        "$f'(x) \\approx \\frac{f(x+\\Delta x) - f(x)}{\\Delta x}$\n",
        "\n",
        "We can substitute the Taylor series for $f(x+\\Delta x)$\n",
        "\n",
        "$f'(x) \\approx \\frac{f(x) + f'(x_0) \\Delta x + f''(x_0) \\frac{\\Delta x ^2}{2} ... - f(x)}{\\Delta x}$\n",
        "\n",
        "$\\approx \\frac{f'(x_0) \\Delta x + f''(x_0) \\frac{\\Delta x ^2}{2} ...}{\\Delta x}$\n",
        "\n",
        "$\\approx f'(x_0) + f''(x_0) \\frac{\\Delta x}{2} ...$\n",
        "\n",
        "$\\approx f'(x_0) + f''(x_0) \\frac{\\Delta x}{2} ...$\n",
        "\n",
        "$\\approx f'(x_0) + 𝒪(\\Delta x)$\n",
        "\n",
        "Therefore this approximation, call the *forward difference* is a first order algorithm."
      ],
      "metadata": {
        "id": "kfpBqJI5UGL8"
      }
    },
    {
      "cell_type": "markdown",
      "source": [
        "### Example 2: Find the order of approximatino of the central difference formula,\n",
        "$f'(x) \\approx \\frac{f(x+\\Delta x) - f(x-\\Delta x)}{2 \\Delta x}$"
      ],
      "metadata": {
        "id": "BGih8nflWfp-"
      }
    },
    {
      "cell_type": "markdown",
      "source": [
        "Substituting the (3rd order) Taylor series for $f(x+\\Delta x)$ and $f(x+[-\\Delta x])$\n",
        "\n",
        "$f'(x) \\approx \\frac{f(x) + f'(x) \\Delta x + f''(x) \\frac{\\Delta x ^2}{2} + f'''(x_0) \\frac{\\Delta x ^3}{6} ... - [f(x) + f'(x) [-\\Delta x] + f''(x) \\frac{-\\Delta x ^2}{2} + f'''(x_0) \\frac{-\\Delta x ^3}{6}...]}{2 \\Delta x}$\n",
        "\n",
        "$\\approx \\frac{f(x) + f'(x) \\Delta x + f''(x) \\frac{\\Delta x ^2}{2} + f'''(x_0) \\frac{\\Delta x ^3}{6} ... - f(x) + f'(x) \\Delta x - f''(x) \\frac{-\\Delta x ^2}{2} + f'''(x_0) \\frac{-\\Delta x ^3}{6}...}{2 \\Delta x}$\n",
        "\n",
        "$\\approx \\frac{2 f'(x) \\Delta x + 2 f'''(x_0) \\frac{\\Delta x ^3}{6} ...}{2 \\Delta x}$\n",
        "\n",
        "$\\approx f'(x) + f'''(x_0) \\frac{\\Delta x ^2}{6} ...$\n",
        "\n",
        "$\\approx f'(x) + 𝒪(\\Delta x ^2)$\n",
        "\n",
        "\n",
        "Therefore, the central difference approximation is a second order algorithm (for the same number of function calls!). By halving the step size, the error is quartered!"
      ],
      "metadata": {
        "id": "d_BxUma_WMFr"
      }
    },
    {
      "cell_type": "markdown",
      "source": [
        "#Common mathematical functions"
      ],
      "metadata": {
        "id": "P1_GJuO-tpUG"
      }
    },
    {
      "cell_type": "markdown",
      "source": [
        "Computers are very good at addition / subtraction, multiplication / division, and exponentiation. How should we calculate other functions?\n",
        "\n",
        "Let's examine some Taylor expansions:\n",
        "\n",
        "| Function | Taylor Expansion                 |\n",
        "|:---------------|:------------------------------------------------------------------|\n",
        "| $\\sin(x) $ | $ x - \\frac{x^3}{3!} + \\frac{x^5}{5!} - \\frac{x^7}{7!} + \\cdots $ |\n",
        "| $ \\cos(x) $ | $ 1 - \\frac{x^2}{2!} + \\frac{x^4}{4!} - \\frac{x^6}{6!} + \\cdots $ |\n",
        "| $ \\exp(x) $ | $ 1 + x + \\frac{x^2}{2!} + \\frac{x^3}{3!} + \\frac{x^4}{4!} + \\cdots $ |\n",
        "| $ \\ln(1+x) $ | $ x - \\frac{x^2}{2} + \\frac{x^3}{3} - \\frac{x^4}{4} + \\cdots $ |\n",
        "\n",
        "On the surface these look good, and in *infinite* precision they are globally convergent.\n",
        "\n",
        "But we are not in *infinite* precision."
      ],
      "metadata": {
        "id": "eV094Wz2wmne"
      }
    },
    {
      "cell_type": "markdown",
      "source": [
        "###Example: Examine the terms of $sin(x)$ for small x"
      ],
      "metadata": {
        "id": "L-0Boej0mg4e"
      }
    },
    {
      "cell_type": "code",
      "source": [
        "import math\n",
        "\n",
        "def taylor_series_sin(x, n_terms):\n",
        "    \"\"\"\n",
        "    Calculate the Taylor series expansion of sin(x) up to n_terms.\n",
        "\n",
        "    Parameters:\n",
        "    x (float): The point at which to evaluate the Taylor series.\n",
        "    n_terms (int): The number of terms to include in the expansion.\n",
        "\n",
        "    Returns:\n",
        "    list: A list of terms in the Taylor series expansion.\n",
        "    \"\"\"\n",
        "    terms = []\n",
        "    for n in range(n_terms):\n",
        "        term = ((-1)**n * x**(2*n + 1)) / math.factorial(2*n + 1)\n",
        "        terms.append(term)\n",
        "    print(\"The terms are as follows:\")\n",
        "    for i, term in enumerate(terms):\n",
        "        print(f\"Term {i+1}: {term:.10f}\")\n",
        "    print(f\"Approximate sin({x}): {sum(terms):.10f}, and it should be {math.sin(x):.10f}\")"
      ],
      "metadata": {
        "id": "XKxYc2m5o1pC"
      },
      "execution_count": null,
      "outputs": []
    },
    {
      "cell_type": "markdown",
      "source": [
        "For a small x:"
      ],
      "metadata": {
        "id": "ymjLGoNrmzxZ"
      }
    },
    {
      "cell_type": "code",
      "source": [
        "taylor_series_sin(1, 10)"
      ],
      "metadata": {
        "id": "j-TNnds0k8qe"
      },
      "execution_count": null,
      "outputs": []
    },
    {
      "cell_type": "markdown",
      "source": [
        "NB: The terms are flipping signs (potential for roundoff error), but more importantly they are decresing.\n",
        "\n",
        "-> No problem"
      ],
      "metadata": {
        "id": "nak6AIcim9Te"
      }
    },
    {
      "cell_type": "markdown",
      "source": [
        "### Example: Examine the terms of  sin(x)  for large x"
      ],
      "metadata": {
        "id": "jS8yAZ5ZnIt6"
      }
    },
    {
      "cell_type": "code",
      "source": [
        "taylor_series_sin(10, 10)"
      ],
      "metadata": {
        "id": "K1uyHPrTmyq7"
      },
      "execution_count": null,
      "outputs": []
    },
    {
      "cell_type": "markdown",
      "source": [
        "Getting a bit funny..."
      ],
      "metadata": {
        "id": "-6Z8scosnUqA"
      }
    },
    {
      "cell_type": "code",
      "source": [
        "taylor_series_sin(100, 10)"
      ],
      "metadata": {
        "id": "DkStK5CRnSOS"
      },
      "execution_count": null,
      "outputs": []
    },
    {
      "cell_type": "markdown",
      "source": [
        "Completely wrong."
      ],
      "metadata": {
        "id": "IoFKcbLynfVn"
      }
    },
    {
      "cell_type": "markdown",
      "source": [
        "## Why you should use a package"
      ],
      "metadata": {
        "id": "oz4jXj5YpqgJ"
      }
    },
    {
      "cell_type": "markdown",
      "source": [
        "In this case, the remedy is fairly simple, but if you are not careful, these function can behave very strangely. In practice, the means of calculation are very sophisticated for performance and stability, including other expansion techniques and sometimes even look-up tables.\n",
        "\n",
        "This is why we use packages! :-)"
      ],
      "metadata": {
        "id": "p6e5Gk9ApyM2"
      }
    },
    {
      "cell_type": "markdown",
      "source": [
        "The Taylor expansion is still useful to consider limiting behaviour.\n",
        "\n",
        "For small $x$,\n",
        "\n",
        "$exp(x) \\approx 1+x$\n",
        "which is subject to roundoff error. Therefore packages like numpy provide special functions like $expm1 = exp(x)-1$"
      ],
      "metadata": {
        "id": "omaRkDnMqySz"
      }
    },
    {
      "cell_type": "code",
      "source": [
        "# Poorer approximation\n",
        "print(np.exp(1e-10) - 1)\n",
        "\n",
        "#Better approximation\n",
        "print(np.expm1(1e-10))"
      ],
      "metadata": {
        "id": "sK8PJHgksbl2"
      },
      "execution_count": null,
      "outputs": []
    }
  ]
}